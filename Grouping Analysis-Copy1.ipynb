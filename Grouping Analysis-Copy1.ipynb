{
 "cells": [
  {
   "cell_type": "code",
   "execution_count": 1,
   "metadata": {},
   "outputs": [],
   "source": [
    "import numpy as np\n",
    "import pandas as pd"
   ]
  },
  {
   "cell_type": "markdown",
   "metadata": {},
   "source": [
    "Here, I categorized the menu items into different groupings based on their ingredients, then conducted statistical tests to draw significant trends in consumer behavior between the different groups. \n",
    "\n",
    "The raw data is the property of EATLAB and is thus removed. This notebook will therefore raise an error."
   ]
  },
  {
   "cell_type": "code",
   "execution_count": 2,
   "metadata": {},
   "outputs": [
    {
     "ename": "FileNotFoundError",
     "evalue": "File b'REMOVED' does not exist",
     "output_type": "error",
     "traceback": [
      "\u001b[0;31m---------------------------------------------------------------------------\u001b[0m",
      "\u001b[0;31mFileNotFoundError\u001b[0m                         Traceback (most recent call last)",
      "\u001b[0;32m<ipython-input-2-e3cbb33d6433>\u001b[0m in \u001b[0;36m<module>\u001b[0;34m()\u001b[0m\n\u001b[0;32m----> 1\u001b[0;31m \u001b[0ming_data\u001b[0m\u001b[0;34m=\u001b[0m \u001b[0mpd\u001b[0m\u001b[0;34m.\u001b[0m\u001b[0mread_csv\u001b[0m\u001b[0;34m(\u001b[0m\u001b[0;34m'REMOVED'\u001b[0m\u001b[0;34m)\u001b[0m\u001b[0;34m\u001b[0m\u001b[0m\n\u001b[0m\u001b[1;32m      2\u001b[0m \u001b[0meat_data\u001b[0m\u001b[0;34m=\u001b[0m \u001b[0mpd\u001b[0m\u001b[0;34m.\u001b[0m\u001b[0mread_csv\u001b[0m\u001b[0;34m(\u001b[0m\u001b[0;34m'REMOVED'\u001b[0m\u001b[0;34m)\u001b[0m\u001b[0;34m\u001b[0m\u001b[0m\n",
      "\u001b[0;32m~/anaconda3/lib/python3.6/site-packages/pandas/io/parsers.py\u001b[0m in \u001b[0;36mparser_f\u001b[0;34m(filepath_or_buffer, sep, delimiter, header, names, index_col, usecols, squeeze, prefix, mangle_dupe_cols, dtype, engine, converters, true_values, false_values, skipinitialspace, skiprows, nrows, na_values, keep_default_na, na_filter, verbose, skip_blank_lines, parse_dates, infer_datetime_format, keep_date_col, date_parser, dayfirst, iterator, chunksize, compression, thousands, decimal, lineterminator, quotechar, quoting, escapechar, comment, encoding, dialect, tupleize_cols, error_bad_lines, warn_bad_lines, skipfooter, doublequote, delim_whitespace, low_memory, memory_map, float_precision)\u001b[0m\n\u001b[1;32m    676\u001b[0m                     skip_blank_lines=skip_blank_lines)\n\u001b[1;32m    677\u001b[0m \u001b[0;34m\u001b[0m\u001b[0m\n\u001b[0;32m--> 678\u001b[0;31m         \u001b[0;32mreturn\u001b[0m \u001b[0m_read\u001b[0m\u001b[0;34m(\u001b[0m\u001b[0mfilepath_or_buffer\u001b[0m\u001b[0;34m,\u001b[0m \u001b[0mkwds\u001b[0m\u001b[0;34m)\u001b[0m\u001b[0;34m\u001b[0m\u001b[0m\n\u001b[0m\u001b[1;32m    679\u001b[0m \u001b[0;34m\u001b[0m\u001b[0m\n\u001b[1;32m    680\u001b[0m     \u001b[0mparser_f\u001b[0m\u001b[0;34m.\u001b[0m\u001b[0m__name__\u001b[0m \u001b[0;34m=\u001b[0m \u001b[0mname\u001b[0m\u001b[0;34m\u001b[0m\u001b[0m\n",
      "\u001b[0;32m~/anaconda3/lib/python3.6/site-packages/pandas/io/parsers.py\u001b[0m in \u001b[0;36m_read\u001b[0;34m(filepath_or_buffer, kwds)\u001b[0m\n\u001b[1;32m    438\u001b[0m \u001b[0;34m\u001b[0m\u001b[0m\n\u001b[1;32m    439\u001b[0m     \u001b[0;31m# Create the parser.\u001b[0m\u001b[0;34m\u001b[0m\u001b[0;34m\u001b[0m\u001b[0m\n\u001b[0;32m--> 440\u001b[0;31m     \u001b[0mparser\u001b[0m \u001b[0;34m=\u001b[0m \u001b[0mTextFileReader\u001b[0m\u001b[0;34m(\u001b[0m\u001b[0mfilepath_or_buffer\u001b[0m\u001b[0;34m,\u001b[0m \u001b[0;34m**\u001b[0m\u001b[0mkwds\u001b[0m\u001b[0;34m)\u001b[0m\u001b[0;34m\u001b[0m\u001b[0m\n\u001b[0m\u001b[1;32m    441\u001b[0m \u001b[0;34m\u001b[0m\u001b[0m\n\u001b[1;32m    442\u001b[0m     \u001b[0;32mif\u001b[0m \u001b[0mchunksize\u001b[0m \u001b[0;32mor\u001b[0m \u001b[0miterator\u001b[0m\u001b[0;34m:\u001b[0m\u001b[0;34m\u001b[0m\u001b[0m\n",
      "\u001b[0;32m~/anaconda3/lib/python3.6/site-packages/pandas/io/parsers.py\u001b[0m in \u001b[0;36m__init__\u001b[0;34m(self, f, engine, **kwds)\u001b[0m\n\u001b[1;32m    785\u001b[0m             \u001b[0mself\u001b[0m\u001b[0;34m.\u001b[0m\u001b[0moptions\u001b[0m\u001b[0;34m[\u001b[0m\u001b[0;34m'has_index_names'\u001b[0m\u001b[0;34m]\u001b[0m \u001b[0;34m=\u001b[0m \u001b[0mkwds\u001b[0m\u001b[0;34m[\u001b[0m\u001b[0;34m'has_index_names'\u001b[0m\u001b[0;34m]\u001b[0m\u001b[0;34m\u001b[0m\u001b[0m\n\u001b[1;32m    786\u001b[0m \u001b[0;34m\u001b[0m\u001b[0m\n\u001b[0;32m--> 787\u001b[0;31m         \u001b[0mself\u001b[0m\u001b[0;34m.\u001b[0m\u001b[0m_make_engine\u001b[0m\u001b[0;34m(\u001b[0m\u001b[0mself\u001b[0m\u001b[0;34m.\u001b[0m\u001b[0mengine\u001b[0m\u001b[0;34m)\u001b[0m\u001b[0;34m\u001b[0m\u001b[0m\n\u001b[0m\u001b[1;32m    788\u001b[0m \u001b[0;34m\u001b[0m\u001b[0m\n\u001b[1;32m    789\u001b[0m     \u001b[0;32mdef\u001b[0m \u001b[0mclose\u001b[0m\u001b[0;34m(\u001b[0m\u001b[0mself\u001b[0m\u001b[0;34m)\u001b[0m\u001b[0;34m:\u001b[0m\u001b[0;34m\u001b[0m\u001b[0m\n",
      "\u001b[0;32m~/anaconda3/lib/python3.6/site-packages/pandas/io/parsers.py\u001b[0m in \u001b[0;36m_make_engine\u001b[0;34m(self, engine)\u001b[0m\n\u001b[1;32m   1012\u001b[0m     \u001b[0;32mdef\u001b[0m \u001b[0m_make_engine\u001b[0m\u001b[0;34m(\u001b[0m\u001b[0mself\u001b[0m\u001b[0;34m,\u001b[0m \u001b[0mengine\u001b[0m\u001b[0;34m=\u001b[0m\u001b[0;34m'c'\u001b[0m\u001b[0;34m)\u001b[0m\u001b[0;34m:\u001b[0m\u001b[0;34m\u001b[0m\u001b[0m\n\u001b[1;32m   1013\u001b[0m         \u001b[0;32mif\u001b[0m \u001b[0mengine\u001b[0m \u001b[0;34m==\u001b[0m \u001b[0;34m'c'\u001b[0m\u001b[0;34m:\u001b[0m\u001b[0;34m\u001b[0m\u001b[0m\n\u001b[0;32m-> 1014\u001b[0;31m             \u001b[0mself\u001b[0m\u001b[0;34m.\u001b[0m\u001b[0m_engine\u001b[0m \u001b[0;34m=\u001b[0m \u001b[0mCParserWrapper\u001b[0m\u001b[0;34m(\u001b[0m\u001b[0mself\u001b[0m\u001b[0;34m.\u001b[0m\u001b[0mf\u001b[0m\u001b[0;34m,\u001b[0m \u001b[0;34m**\u001b[0m\u001b[0mself\u001b[0m\u001b[0;34m.\u001b[0m\u001b[0moptions\u001b[0m\u001b[0;34m)\u001b[0m\u001b[0;34m\u001b[0m\u001b[0m\n\u001b[0m\u001b[1;32m   1015\u001b[0m         \u001b[0;32melse\u001b[0m\u001b[0;34m:\u001b[0m\u001b[0;34m\u001b[0m\u001b[0m\n\u001b[1;32m   1016\u001b[0m             \u001b[0;32mif\u001b[0m \u001b[0mengine\u001b[0m \u001b[0;34m==\u001b[0m \u001b[0;34m'python'\u001b[0m\u001b[0;34m:\u001b[0m\u001b[0;34m\u001b[0m\u001b[0m\n",
      "\u001b[0;32m~/anaconda3/lib/python3.6/site-packages/pandas/io/parsers.py\u001b[0m in \u001b[0;36m__init__\u001b[0;34m(self, src, **kwds)\u001b[0m\n\u001b[1;32m   1706\u001b[0m         \u001b[0mkwds\u001b[0m\u001b[0;34m[\u001b[0m\u001b[0;34m'usecols'\u001b[0m\u001b[0;34m]\u001b[0m \u001b[0;34m=\u001b[0m \u001b[0mself\u001b[0m\u001b[0;34m.\u001b[0m\u001b[0musecols\u001b[0m\u001b[0;34m\u001b[0m\u001b[0m\n\u001b[1;32m   1707\u001b[0m \u001b[0;34m\u001b[0m\u001b[0m\n\u001b[0;32m-> 1708\u001b[0;31m         \u001b[0mself\u001b[0m\u001b[0;34m.\u001b[0m\u001b[0m_reader\u001b[0m \u001b[0;34m=\u001b[0m \u001b[0mparsers\u001b[0m\u001b[0;34m.\u001b[0m\u001b[0mTextReader\u001b[0m\u001b[0;34m(\u001b[0m\u001b[0msrc\u001b[0m\u001b[0;34m,\u001b[0m \u001b[0;34m**\u001b[0m\u001b[0mkwds\u001b[0m\u001b[0;34m)\u001b[0m\u001b[0;34m\u001b[0m\u001b[0m\n\u001b[0m\u001b[1;32m   1709\u001b[0m \u001b[0;34m\u001b[0m\u001b[0m\n\u001b[1;32m   1710\u001b[0m         \u001b[0mpassed_names\u001b[0m \u001b[0;34m=\u001b[0m \u001b[0mself\u001b[0m\u001b[0;34m.\u001b[0m\u001b[0mnames\u001b[0m \u001b[0;32mis\u001b[0m \u001b[0;32mNone\u001b[0m\u001b[0;34m\u001b[0m\u001b[0m\n",
      "\u001b[0;32mpandas/_libs/parsers.pyx\u001b[0m in \u001b[0;36mpandas._libs.parsers.TextReader.__cinit__\u001b[0;34m()\u001b[0m\n",
      "\u001b[0;32mpandas/_libs/parsers.pyx\u001b[0m in \u001b[0;36mpandas._libs.parsers.TextReader._setup_parser_source\u001b[0;34m()\u001b[0m\n",
      "\u001b[0;31mFileNotFoundError\u001b[0m: File b'REMOVED' does not exist"
     ]
    }
   ],
   "source": [
    "ing_data= pd.read_csv('REMOVED')\n",
    "eat_data= pd.read_csv('REMOVED')"
   ]
  },
  {
   "cell_type": "code",
   "execution_count": null,
   "metadata": {},
   "outputs": [],
   "source": [
    "# GROUPING 1\n",
    "riceList= ing_data[ing_data['ข้าว'] > 0]['Product']\n",
    "spaghettiList= ing_data[ing_data['เส้น'] > 0]['Product']\n",
    "otherList= ing_data[(ing_data['ข้าว'] == 0) & (ing_data['เส้น'] == 0)]['Product']"
   ]
  },
  {
   "cell_type": "code",
   "execution_count": null,
   "metadata": {
    "scrolled": true
   },
   "outputs": [],
   "source": [
    "riceList"
   ]
  },
  {
   "cell_type": "code",
   "execution_count": null,
   "metadata": {},
   "outputs": [],
   "source": [
    "spaghettiList"
   ]
  },
  {
   "cell_type": "code",
   "execution_count": null,
   "metadata": {},
   "outputs": [],
   "source": [
    "otherList"
   ]
  },
  {
   "cell_type": "code",
   "execution_count": null,
   "metadata": {},
   "outputs": [],
   "source": [
    "# GROUPING 2\n",
    "def isSpicy(product, ing_data):\n",
    "    spicyIng= ['พริกแกง', 'ซอสพริก', 'พริก', 'พริกชี้ฟ้า', 'พริกเผา']\n",
    "    for ing in spicyIng:\n",
    "        if ing_data[ing][product] > 0:\n",
    "            return True\n",
    "    return False\n",
    "\n",
    "def spicyList(ing_data):\n",
    "    S= [] \n",
    "    nS= []\n",
    "    L= [S, nS]\n",
    "    for product in ing_data.index:\n",
    "        if isSpicy(product, ing_data):\n",
    "            S.append(ing_data['Product'][product])\n",
    "        else:\n",
    "            nS.append(ing_data['Product'][product])\n",
    "    return pd.Series(L)\n",
    "\n",
    "L= spicyList(ing_data)\n",
    "spicyList= L[0]\n",
    "notSpicyList= L[1]"
   ]
  },
  {
   "cell_type": "code",
   "execution_count": null,
   "metadata": {},
   "outputs": [],
   "source": [
    "spicyList"
   ]
  },
  {
   "cell_type": "code",
   "execution_count": null,
   "metadata": {},
   "outputs": [],
   "source": [
    "notSpicyList"
   ]
  },
  {
   "cell_type": "code",
   "execution_count": null,
   "metadata": {},
   "outputs": [],
   "source": [
    "# GROUPING 3\n",
    "plateList= ing_data[(ing_data['จาน'] > 0) | (ing_data['จานแก้ว'] > 0)]['Product']\n",
    "bowlList= ing_data[ing_data['ชาม'] > 0]['Product']\n",
    "trayList= ing_data[ing_data['ถาดเหล็ก'] > 0]['Product']"
   ]
  },
  {
   "cell_type": "code",
   "execution_count": null,
   "metadata": {},
   "outputs": [],
   "source": [
    "plateList"
   ]
  },
  {
   "cell_type": "code",
   "execution_count": null,
   "metadata": {},
   "outputs": [],
   "source": [
    "bowlList"
   ]
  },
  {
   "cell_type": "code",
   "execution_count": null,
   "metadata": {},
   "outputs": [],
   "source": [
    "trayList"
   ]
  },
  {
   "cell_type": "code",
   "execution_count": null,
   "metadata": {},
   "outputs": [],
   "source": [
    "ing_data.index= ing_data['Product']\n",
    "eat_data['No. of bite normalised']= eat_data['No. of bite'] / 10\n",
    "\n",
    "def filter(list, eat_data):\n",
    "    filtered= eat_data[eat_data['Product'].isin(list)]\n",
    "    data= pd.DataFrame({'Product': filtered['Product'], 'breaks': filtered['No. of breaks'], 'bites': filtered['No. of bite normalised'], 'leftover': filtered['Number of leftover regularised'], 'mix': filtered['Mix with other food regularised'], 'time': filtered['Total time normalised'], 'mov_avg': filtered['Avg movement magnitude normalised'], 'mov_sum': filtered['Total movement magnitude normalised']})\n",
    "    data.index= data['Product']\n",
    "    del data['Product']\n",
    "    return data\n",
    "\n",
    "import scipy.stats as st \n",
    "\n",
    "\"\"\"\n",
    "Precondition: data1 and data2 have same columns\n",
    "Generates a table of p-values for all the columns in data1 and data2\n",
    "\"\"\"\n",
    "def test(data1, data2):\n",
    "    table= pd.DataFrame(columns= ['Variable', 'p-value'])\n",
    "    for column in data1.columns:\n",
    "        p= st.ttest_ind(data1[column], data2[column], equal_var= False)[1]\n",
    "        table= table.append({'Variable': column, 'p-value': p}, ignore_index= True)\n",
    "        \n",
    "    return table\n"
   ]
  },
  {
   "cell_type": "code",
   "execution_count": null,
   "metadata": {},
   "outputs": [],
   "source": [
    "# Analysis for grouping 1\n",
    "riceData= filter(riceList, eat_data)\n",
    "riceData.dropna().describe()"
   ]
  },
  {
   "cell_type": "code",
   "execution_count": null,
   "metadata": {},
   "outputs": [],
   "source": [
    "spaghettiData= filter(spaghettiList, eat_data)\n",
    "spaghettiData.dropna().describe()"
   ]
  },
  {
   "cell_type": "code",
   "execution_count": null,
   "metadata": {},
   "outputs": [],
   "source": [
    "otherData= filter(otherList, eat_data)\n",
    "otherData.dropna().describe()"
   ]
  },
  {
   "cell_type": "code",
   "execution_count": null,
   "metadata": {},
   "outputs": [],
   "source": [
    "test(riceData, spaghettiData)"
   ]
  },
  {
   "cell_type": "code",
   "execution_count": null,
   "metadata": {},
   "outputs": [],
   "source": [
    "test(spaghettiData, otherData)"
   ]
  },
  {
   "cell_type": "code",
   "execution_count": null,
   "metadata": {},
   "outputs": [],
   "source": [
    "test(otherData, riceData)"
   ]
  },
  {
   "cell_type": "code",
   "execution_count": null,
   "metadata": {},
   "outputs": [],
   "source": [
    "# Analysis for grouping 2\n",
    "spicyData= filter(spicyList, eat_data)\n",
    "spicyData.dropna().describe()"
   ]
  },
  {
   "cell_type": "code",
   "execution_count": null,
   "metadata": {},
   "outputs": [],
   "source": [
    "notSpicyData= filter(notSpicyList, eat_data)\n",
    "notSpicyData.dropna().describe()"
   ]
  },
  {
   "cell_type": "code",
   "execution_count": null,
   "metadata": {},
   "outputs": [],
   "source": [
    "test(spicyData, notSpicyData)"
   ]
  },
  {
   "cell_type": "code",
   "execution_count": null,
   "metadata": {},
   "outputs": [],
   "source": [
    "# Analysis for grouping 3\n",
    "plateData= filter(plateList, eat_data)\n",
    "plateData.dropna().describe()"
   ]
  },
  {
   "cell_type": "code",
   "execution_count": null,
   "metadata": {},
   "outputs": [],
   "source": [
    "bowlData= filter(bowlList, eat_data)\n",
    "bowlData.dropna().describe()"
   ]
  },
  {
   "cell_type": "code",
   "execution_count": null,
   "metadata": {},
   "outputs": [],
   "source": [
    "trayData= filter(trayList, eat_data)\n",
    "trayData.dropna().describe()"
   ]
  },
  {
   "cell_type": "code",
   "execution_count": null,
   "metadata": {},
   "outputs": [],
   "source": [
    "test(plateData, bowlData)"
   ]
  },
  {
   "cell_type": "code",
   "execution_count": null,
   "metadata": {},
   "outputs": [],
   "source": [
    "test(bowlData, trayData)"
   ]
  },
  {
   "cell_type": "code",
   "execution_count": null,
   "metadata": {},
   "outputs": [],
   "source": [
    "test(trayData, plateData)"
   ]
  },
  {
   "cell_type": "code",
   "execution_count": null,
   "metadata": {},
   "outputs": [],
   "source": [
    "# INTERPRETATIONS FOR GROUPINGS 1-3\n",
    "# - Eating other foods (neither spaghetti nor rice) involve more bites than spaghetti and rice.\n",
    "# - Spaghetti takes more time to eat than rice\n",
    "# - Other foods have less leftover than rice\n",
    "# - Eating non-spicy foods involve more bites than spicy foods\n",
    "# - Eating from a bowl involves more breaks than eating from a plate\n",
    "# - Eating from a bowl involves more mixing with other foods than eating from a plate\n",
    "# - Eating from a tray leaves less leftovers than eating from a bowl or a plate\n",
    "# - Eating from a tray involves less movement than eating from a bowl or a plate\n",
    "# - Eating from a tray is faster than eating from a bowl or a plate"
   ]
  },
  {
   "cell_type": "code",
   "execution_count": null,
   "metadata": {},
   "outputs": [],
   "source": [
    "fullList= ing_data['Product']\n",
    "data= filter(fullList, eat_data)\n",
    "data.dropna().describe()"
   ]
  },
  {
   "cell_type": "code",
   "execution_count": null,
   "metadata": {},
   "outputs": [],
   "source": [
    "# GROUPING 4 (used existing file from AI_shared_folder / Food Grouping in Google Drive)\n",
    "grouping4= pd.read_csv('/Users/Pura 1/Documents/EATLAB Internship/seasoning_carb_group_id.csv')\n",
    "group4_ng1List= grouping4[grouping4['label'] == -1]['menu_th']\n",
    "group4_0List= grouping4[grouping4['label'] == 0]['menu_th']\n",
    "group4_1List= grouping4[grouping4['label'] == 1]['menu_th']\n",
    "group4_2List= grouping4[grouping4['label'] == 2]['menu_th']\n",
    "group4_3List= grouping4[grouping4['label'] == 3]['menu_th']\n",
    "group4_4List= grouping4[grouping4['label'] == 4]['menu_th']\n",
    "group4_5List= grouping4[grouping4['label'] == 5]['menu_th']\n",
    "group4_6List= grouping4[grouping4['label'] == 6]['menu_th']\n",
    "group4_7List= grouping4[grouping4['label'] == 7]['menu_th']"
   ]
  },
  {
   "cell_type": "code",
   "execution_count": null,
   "metadata": {},
   "outputs": [],
   "source": [
    "group4_ng1List"
   ]
  },
  {
   "cell_type": "code",
   "execution_count": null,
   "metadata": {},
   "outputs": [],
   "source": [
    "group4_0List"
   ]
  },
  {
   "cell_type": "raw",
   "metadata": {},
   "source": [
    "group4_1List"
   ]
  },
  {
   "cell_type": "code",
   "execution_count": null,
   "metadata": {},
   "outputs": [],
   "source": [
    "group4_1List"
   ]
  },
  {
   "cell_type": "code",
   "execution_count": null,
   "metadata": {},
   "outputs": [],
   "source": [
    "group4_2List"
   ]
  },
  {
   "cell_type": "code",
   "execution_count": null,
   "metadata": {},
   "outputs": [],
   "source": [
    "group4_3List"
   ]
  },
  {
   "cell_type": "code",
   "execution_count": null,
   "metadata": {},
   "outputs": [],
   "source": [
    "group4_4List"
   ]
  },
  {
   "cell_type": "code",
   "execution_count": null,
   "metadata": {},
   "outputs": [],
   "source": [
    "group4_5List"
   ]
  },
  {
   "cell_type": "code",
   "execution_count": null,
   "metadata": {},
   "outputs": [],
   "source": [
    "group4_6List"
   ]
  },
  {
   "cell_type": "code",
   "execution_count": null,
   "metadata": {},
   "outputs": [],
   "source": [
    "group4_7List"
   ]
  },
  {
   "cell_type": "markdown",
   "metadata": {},
   "source": [
    "Example: group4_0aList is a list of all food items NOT in group4_0. This is to see whether the behavorial data for food items inside the group significantly differ from that outside the group)"
   ]
  },
  {
   "cell_type": "code",
   "execution_count": null,
   "metadata": {},
   "outputs": [],
   "source": [
    "group4_ng1aList= fullList.drop(labels= group4_ng1List)\n",
    "group4_0aList= fullList.drop(labels= group4_0List)\n",
    "group4_1aList= fullList.drop(labels= group4_1List)\n",
    "group4_2aList= fullList.drop(labels= group4_2List)\n",
    "group4_3aList= fullList.drop(labels= group4_3List)\n",
    "group4_4aList= fullList.drop(labels= group4_4List)\n",
    "group4_5aList= fullList.drop(labels= group4_5List)\n",
    "group4_6aList= fullList.drop(labels= group4_6List)\n",
    "group4_7aList= fullList.drop(labels= group4_7List)"
   ]
  },
  {
   "cell_type": "code",
   "execution_count": null,
   "metadata": {},
   "outputs": [],
   "source": [
    "group4_ng1Data= filter(group4_ng1List, eat_data)\n",
    "group4_ng1aData= filter(group4_ng1aList, eat_data)\n",
    "group4_ng1Data.dropna().describe()"
   ]
  },
  {
   "cell_type": "code",
   "execution_count": null,
   "metadata": {},
   "outputs": [],
   "source": [
    "group4_0Data= filter(group4_0List, eat_data)\n",
    "group4_0aData= filter(group4_0aList, eat_data)\n",
    "group4_0Data.dropna().describe()"
   ]
  },
  {
   "cell_type": "code",
   "execution_count": null,
   "metadata": {},
   "outputs": [],
   "source": [
    "group4_1Data= filter(group4_1List, eat_data)\n",
    "group4_1aData= filter(group4_1aList, eat_data)\n",
    "group4_1Data.dropna().describe()"
   ]
  },
  {
   "cell_type": "code",
   "execution_count": null,
   "metadata": {},
   "outputs": [],
   "source": [
    "group4_2Data= filter(group4_2List, eat_data)\n",
    "group4_2aData= filter(group4_2aList, eat_data)\n",
    "group4_2Data.dropna().describe()"
   ]
  },
  {
   "cell_type": "code",
   "execution_count": null,
   "metadata": {},
   "outputs": [],
   "source": [
    "group4_3Data= filter(group4_3List, eat_data)\n",
    "group4_3aData= filter(group4_3aList, eat_data)\n",
    "group4_3Data.dropna().describe()"
   ]
  },
  {
   "cell_type": "code",
   "execution_count": null,
   "metadata": {},
   "outputs": [],
   "source": [
    "group4_4Data= filter(group4_4List, eat_data)\n",
    "group4_4aData= filter(group4_4aList, eat_data)\n",
    "group4_4Data.dropna().describe()"
   ]
  },
  {
   "cell_type": "code",
   "execution_count": null,
   "metadata": {},
   "outputs": [],
   "source": [
    "group4_5Data= filter(group4_5List, eat_data)\n",
    "group4_5aData= filter(group4_5aList, eat_data)\n",
    "group4_5Data.dropna().describe()"
   ]
  },
  {
   "cell_type": "code",
   "execution_count": null,
   "metadata": {},
   "outputs": [],
   "source": [
    "group4_6Data= filter(group4_6List, eat_data)\n",
    "group4_6aData= filter(group4_6aList, eat_data)\n",
    "group4_6Data.dropna().describe()"
   ]
  },
  {
   "cell_type": "code",
   "execution_count": null,
   "metadata": {},
   "outputs": [],
   "source": [
    "group4_7Data= filter(group4_7List, eat_data)\n",
    "group4_7aData= filter(group4_7aList, eat_data)\n",
    "group4_7Data.dropna().describe()"
   ]
  },
  {
   "cell_type": "code",
   "execution_count": null,
   "metadata": {},
   "outputs": [],
   "source": [
    "test(group4_ng1Data, group4_ng1aData)"
   ]
  },
  {
   "cell_type": "code",
   "execution_count": null,
   "metadata": {},
   "outputs": [],
   "source": [
    "test(group4_0Data, group4_0aData)"
   ]
  },
  {
   "cell_type": "code",
   "execution_count": null,
   "metadata": {},
   "outputs": [],
   "source": [
    "test(group4_1Data, group4_1aData)"
   ]
  },
  {
   "cell_type": "code",
   "execution_count": null,
   "metadata": {},
   "outputs": [],
   "source": [
    "test(group4_2Data, group4_2aData)"
   ]
  },
  {
   "cell_type": "code",
   "execution_count": null,
   "metadata": {},
   "outputs": [],
   "source": [
    "test(group4_3Data, group4_3aData)"
   ]
  },
  {
   "cell_type": "code",
   "execution_count": null,
   "metadata": {},
   "outputs": [],
   "source": [
    "test(group4_4Data, group4_4aData)"
   ]
  },
  {
   "cell_type": "code",
   "execution_count": null,
   "metadata": {},
   "outputs": [],
   "source": [
    "test(group4_5Data, group4_5aData)"
   ]
  },
  {
   "cell_type": "code",
   "execution_count": null,
   "metadata": {},
   "outputs": [],
   "source": [
    "test(group4_6Data, group4_6aData)"
   ]
  },
  {
   "cell_type": "code",
   "execution_count": null,
   "metadata": {},
   "outputs": [],
   "source": [
    "test(group4_7Data, group4_7aData)"
   ]
  },
  {
   "cell_type": "code",
   "execution_count": null,
   "metadata": {},
   "outputs": [],
   "source": [
    "# GROUPING 5 (used existing file from AI_shared_folder / Food Grouping in Google Drive)\n",
    "data.dropna().describe()"
   ]
  },
  {
   "cell_type": "code",
   "execution_count": null,
   "metadata": {},
   "outputs": [],
   "source": [
    "grouping5= pd.read_csv('/Users/Pura 1/Documents/EATLAB Internship/seasoning_garnish_group_id.csv')\n",
    "group5_ng1List= grouping5[grouping5['label'] == -1]['menu_th']\n",
    "group5_0List= grouping5[grouping5['label'] == 0]['menu_th']\n",
    "group5_1List= grouping5[grouping5['label'] == 1]['menu_th']\n",
    "group5_2List= grouping5[grouping5['label'] == 2]['menu_th']\n",
    "group5_3List= grouping5[grouping5['label'] == 3]['menu_th']\n",
    "group5_4List= grouping5[grouping5['label'] == 4]['menu_th']\n",
    "group5_5List= grouping5[grouping5['label'] == 5]['menu_th']\n",
    "group5_6List= grouping5[grouping5['label'] == 6]['menu_th']"
   ]
  },
  {
   "cell_type": "code",
   "execution_count": null,
   "metadata": {},
   "outputs": [],
   "source": [
    "group5_ng1List"
   ]
  },
  {
   "cell_type": "code",
   "execution_count": null,
   "metadata": {},
   "outputs": [],
   "source": [
    "group5_0List"
   ]
  },
  {
   "cell_type": "code",
   "execution_count": null,
   "metadata": {},
   "outputs": [],
   "source": [
    "group5_1List"
   ]
  },
  {
   "cell_type": "code",
   "execution_count": null,
   "metadata": {},
   "outputs": [],
   "source": [
    "group5_2List"
   ]
  },
  {
   "cell_type": "code",
   "execution_count": null,
   "metadata": {},
   "outputs": [],
   "source": [
    "group5_3List"
   ]
  },
  {
   "cell_type": "code",
   "execution_count": null,
   "metadata": {},
   "outputs": [],
   "source": [
    "group5_4List"
   ]
  },
  {
   "cell_type": "code",
   "execution_count": null,
   "metadata": {},
   "outputs": [],
   "source": [
    "group5_5List"
   ]
  },
  {
   "cell_type": "code",
   "execution_count": null,
   "metadata": {},
   "outputs": [],
   "source": [
    "group5_6List"
   ]
  },
  {
   "cell_type": "code",
   "execution_count": null,
   "metadata": {},
   "outputs": [],
   "source": [
    "group5_ng1aList= fullList.drop(labels= group5_ng1List)\n",
    "group5_0aList= fullList.drop(labels= group5_0List)\n",
    "group5_1aList= fullList.drop(labels= group5_1List)\n",
    "group5_2aList= fullList.drop(labels= group5_2List)\n",
    "group5_3aList= fullList.drop(labels= group5_3List)\n",
    "group5_4aList= fullList.drop(labels= group5_4List)\n",
    "group5_5aList= fullList.drop(labels= group5_5List)\n",
    "group5_6aList= fullList.drop(labels= group5_6List)"
   ]
  },
  {
   "cell_type": "code",
   "execution_count": null,
   "metadata": {},
   "outputs": [],
   "source": [
    "group5_ng1Data= filter(group5_ng1List, eat_data)\n",
    "group5_ng1aData= filter(group5_ng1aList, eat_data)\n",
    "group5_ng1Data.dropna().describe()"
   ]
  },
  {
   "cell_type": "code",
   "execution_count": null,
   "metadata": {},
   "outputs": [],
   "source": [
    "group5_0Data= filter(group5_0List, eat_data)\n",
    "group5_0aData= filter(group5_0aList, eat_data)\n",
    "group5_0Data.dropna().describe()"
   ]
  },
  {
   "cell_type": "code",
   "execution_count": null,
   "metadata": {},
   "outputs": [],
   "source": [
    "group5_1Data= filter(group5_1List, eat_data)\n",
    "group5_1aData= filter(group5_1aList, eat_data)\n",
    "group5_1Data.dropna().describe()"
   ]
  },
  {
   "cell_type": "code",
   "execution_count": null,
   "metadata": {},
   "outputs": [],
   "source": [
    "group5_2Data= filter(group5_2List, eat_data)\n",
    "group5_2aData= filter(group5_2aList, eat_data)\n",
    "group5_2Data.dropna().describe()"
   ]
  },
  {
   "cell_type": "code",
   "execution_count": null,
   "metadata": {},
   "outputs": [],
   "source": [
    "group5_3Data= filter(group5_3List, eat_data)\n",
    "group5_3aData= filter(group5_3aList, eat_data)\n",
    "group5_3Data.dropna().describe()"
   ]
  },
  {
   "cell_type": "code",
   "execution_count": null,
   "metadata": {},
   "outputs": [],
   "source": [
    "group5_4Data= filter(group5_4List, eat_data)\n",
    "group5_4aData= filter(group5_4aList, eat_data)\n",
    "group5_4Data.dropna().describe()"
   ]
  },
  {
   "cell_type": "code",
   "execution_count": null,
   "metadata": {},
   "outputs": [],
   "source": [
    "group5_5Data= filter(group5_5List, eat_data)\n",
    "group5_5aData= filter(group5_5aList, eat_data)\n",
    "group5_5Data.dropna().describe()"
   ]
  },
  {
   "cell_type": "code",
   "execution_count": null,
   "metadata": {},
   "outputs": [],
   "source": [
    "group5_6Data= filter(group5_6List, eat_data)\n",
    "group5_6aData= filter(group5_6aList, eat_data)\n",
    "group5_6Data.dropna().describe()"
   ]
  },
  {
   "cell_type": "code",
   "execution_count": null,
   "metadata": {},
   "outputs": [],
   "source": [
    "test(group5_ng1Data, group5_ng1aData)"
   ]
  },
  {
   "cell_type": "code",
   "execution_count": null,
   "metadata": {},
   "outputs": [],
   "source": [
    "test(group5_0Data, group5_0aData)"
   ]
  },
  {
   "cell_type": "code",
   "execution_count": null,
   "metadata": {},
   "outputs": [],
   "source": [
    "test(group5_1Data, group5_1aData)"
   ]
  },
  {
   "cell_type": "code",
   "execution_count": null,
   "metadata": {},
   "outputs": [],
   "source": [
    "test(group5_2Data, group5_2aData)"
   ]
  },
  {
   "cell_type": "code",
   "execution_count": null,
   "metadata": {},
   "outputs": [],
   "source": [
    "test(group5_3Data, group5_3aData)"
   ]
  },
  {
   "cell_type": "code",
   "execution_count": null,
   "metadata": {},
   "outputs": [],
   "source": [
    "test(group5_4Data, group5_4aData)"
   ]
  },
  {
   "cell_type": "code",
   "execution_count": null,
   "metadata": {},
   "outputs": [],
   "source": [
    "test(group5_5Data, group5_5aData)"
   ]
  },
  {
   "cell_type": "code",
   "execution_count": null,
   "metadata": {},
   "outputs": [],
   "source": [
    "test(group5_6Data, group5_6aData)"
   ]
  },
  {
   "cell_type": "code",
   "execution_count": null,
   "metadata": {},
   "outputs": [],
   "source": [
    "# GROUPING 6 (Food where mix = 1 are those where the contents of the dish are already thoroughly mixed, e.g. caesar salad, while mix = 0 means they are not, e.g. where there is rice on one side of the dish and meat on the other side of the dish)\n",
    "mix_table= pd.read_csv('/Users/Pura 1/Documents/EATLAB Internship/mix.csv')\n",
    "mixList= mix_table[mix_table['Mix'] == 1]['Product']\n",
    "notMixList= mix_table[mix_table['Mix'] == 0]['Product']"
   ]
  },
  {
   "cell_type": "code",
   "execution_count": null,
   "metadata": {},
   "outputs": [],
   "source": [
    "mixList"
   ]
  },
  {
   "cell_type": "code",
   "execution_count": null,
   "metadata": {},
   "outputs": [],
   "source": [
    "notMixList"
   ]
  },
  {
   "cell_type": "code",
   "execution_count": null,
   "metadata": {},
   "outputs": [],
   "source": [
    "mixData= filter(mixList, eat_data)\n",
    "mixData.dropna().describe()"
   ]
  },
  {
   "cell_type": "code",
   "execution_count": null,
   "metadata": {},
   "outputs": [],
   "source": [
    "notMixData= filter(notMixList, eat_data)\n",
    "notMixData.dropna().describe()"
   ]
  },
  {
   "cell_type": "code",
   "execution_count": null,
   "metadata": {},
   "outputs": [],
   "source": [
    "test(mixData, notMixData)"
   ]
  },
  {
   "cell_type": "code",
   "execution_count": null,
   "metadata": {},
   "outputs": [],
   "source": [
    "# K-Means Clustering\n",
    "def inList(list, ing_data):\n",
    "    return ing_data['Product'].isin(list).astype('int_')\n",
    "\n",
    "X= pd.DataFrame({'Spicy': inList(spicyList, ing_data), 'Plate': inList(plateList, ing_data), 'Bowl': inList(bowlList, ing_data), 'Tray': inList(trayList, ing_data), 'Spaghetti': inList(spaghettiList, ing_data), 'Rice': inList(riceList, ing_data), 'Mix': inList(mixList, ing_data)})\n",
    "X"
   ]
  },
  {
   "cell_type": "code",
   "execution_count": null,
   "metadata": {},
   "outputs": [],
   "source": [
    "%matplotlib inline\n",
    "from sklearn.cluster import KMeans\n",
    "from matplotlib import pyplot as plt\n",
    "distorsions = []\n",
    "for k in range(2, 20):\n",
    "    kmeans = KMeans(n_clusters=k)\n",
    "    kmeans.fit(X)\n",
    "    distorsions.append(kmeans.inertia_)\n",
    "\n",
    "fig = plt.figure(figsize=(15, 5))\n",
    "plt.plot(range(2, 20), distorsions)\n",
    "plt.grid(True)\n",
    "plt.title('Elbow curve')"
   ]
  },
  {
   "cell_type": "code",
   "execution_count": null,
   "metadata": {
    "scrolled": true
   },
   "outputs": [],
   "source": [
    "kmeans = KMeans(n_clusters= 7,random_state=0)\n",
    "kmeans.fit(X)\n",
    "y_kmeans = kmeans.predict(X)"
   ]
  },
  {
   "cell_type": "code",
   "execution_count": null,
   "metadata": {},
   "outputs": [],
   "source": [
    "X_cluster= pd.DataFrame({'Product': ing_data['Product'], 'Cluster': y_kmeans})\n",
    "X_cluster"
   ]
  },
  {
   "cell_type": "code",
   "execution_count": null,
   "metadata": {},
   "outputs": [],
   "source": [
    "group7_0List= X_cluster[X_cluster['Cluster'] == 0]['Product']\n",
    "group7_1List= X_cluster[X_cluster['Cluster'] == 1]['Product']\n",
    "group7_2List= X_cluster[X_cluster['Cluster'] == 2]['Product']\n",
    "group7_3List= X_cluster[X_cluster['Cluster'] == 3]['Product']\n",
    "group7_4List= X_cluster[X_cluster['Cluster'] == 4]['Product']\n",
    "group7_5List= X_cluster[X_cluster['Cluster'] == 5]['Product']\n",
    "group7_6List= X_cluster[X_cluster['Cluster'] == 6]['Product']"
   ]
  },
  {
   "cell_type": "code",
   "execution_count": null,
   "metadata": {},
   "outputs": [],
   "source": [
    "data.dropna().describe()"
   ]
  },
  {
   "cell_type": "code",
   "execution_count": null,
   "metadata": {},
   "outputs": [],
   "source": [
    "group7_0aList= fullList.drop(labels= group7_0List)\n",
    "group7_1aList= fullList.drop(labels= group7_1List)\n",
    "group7_2aList= fullList.drop(labels= group7_2List)\n",
    "group7_3aList= fullList.drop(labels= group7_3List)\n",
    "group7_4aList= fullList.drop(labels= group7_4List)\n",
    "group7_5aList= fullList.drop(labels= group7_5List)\n",
    "group7_6aList= fullList.drop(labels= group7_6List)"
   ]
  },
  {
   "cell_type": "code",
   "execution_count": null,
   "metadata": {},
   "outputs": [],
   "source": [
    "group7_0Data= filter(group7_0List, eat_data)\n",
    "group7_0aData= filter(group7_0aList, eat_data)\n",
    "group7_0Data.dropna().describe()"
   ]
  },
  {
   "cell_type": "code",
   "execution_count": null,
   "metadata": {},
   "outputs": [],
   "source": [
    "group7_1Data= filter(group7_1List, eat_data)\n",
    "group7_1aData= filter(group7_1aList, eat_data)\n",
    "group7_1Data.dropna().describe()"
   ]
  },
  {
   "cell_type": "code",
   "execution_count": null,
   "metadata": {},
   "outputs": [],
   "source": [
    "group7_2Data= filter(group7_2List, eat_data)\n",
    "group7_2aData= filter(group7_2aList, eat_data)\n",
    "group7_2Data.dropna().describe()"
   ]
  },
  {
   "cell_type": "code",
   "execution_count": null,
   "metadata": {},
   "outputs": [],
   "source": [
    "group7_3Data= filter(group7_3List, eat_data)\n",
    "group7_3aData= filter(group7_3aList, eat_data)\n",
    "group7_3Data.dropna().describe()"
   ]
  },
  {
   "cell_type": "code",
   "execution_count": null,
   "metadata": {},
   "outputs": [],
   "source": [
    "group7_4Data= filter(group7_4List, eat_data)\n",
    "group7_4aData= filter(group7_4aList, eat_data)\n",
    "group7_4Data.dropna().describe()"
   ]
  },
  {
   "cell_type": "code",
   "execution_count": null,
   "metadata": {},
   "outputs": [],
   "source": [
    "group7_5Data= filter(group7_5List, eat_data)\n",
    "group7_5aData= filter(group7_5aList, eat_data)\n",
    "group7_5Data.dropna().describe()"
   ]
  },
  {
   "cell_type": "code",
   "execution_count": null,
   "metadata": {},
   "outputs": [],
   "source": [
    "group7_6Data= filter(group7_6List, eat_data)\n",
    "group7_6aData= filter(group7_6aList, eat_data)\n",
    "group7_6Data.dropna().describe()"
   ]
  },
  {
   "cell_type": "code",
   "execution_count": null,
   "metadata": {},
   "outputs": [],
   "source": [
    "test(group7_0Data, group7_0aData)"
   ]
  },
  {
   "cell_type": "code",
   "execution_count": null,
   "metadata": {},
   "outputs": [],
   "source": [
    "test(group7_1Data, group7_1aData)"
   ]
  },
  {
   "cell_type": "code",
   "execution_count": null,
   "metadata": {},
   "outputs": [],
   "source": [
    "test(group7_2Data, group7_2aData)"
   ]
  },
  {
   "cell_type": "code",
   "execution_count": null,
   "metadata": {},
   "outputs": [],
   "source": [
    "test(group7_3Data, group7_3aData)"
   ]
  },
  {
   "cell_type": "code",
   "execution_count": null,
   "metadata": {},
   "outputs": [],
   "source": [
    "test(group7_4Data, group7_4aData)"
   ]
  },
  {
   "cell_type": "code",
   "execution_count": null,
   "metadata": {},
   "outputs": [],
   "source": [
    "test(group7_5Data, group7_5aData)"
   ]
  },
  {
   "cell_type": "code",
   "execution_count": null,
   "metadata": {},
   "outputs": [],
   "source": [
    "test(group7_6Data, group7_6aData)"
   ]
  },
  {
   "cell_type": "code",
   "execution_count": null,
   "metadata": {},
   "outputs": [],
   "source": [
    "mass_table= pd.read_csv('/Users/Pura 1/Documents/EATLAB Internship/mass_table.csv')\n",
    "mean_table= data.groupby('Product').mean()\n",
    "mean_table"
   ]
  },
  {
   "cell_type": "code",
   "execution_count": null,
   "metadata": {},
   "outputs": [],
   "source": [
    "summary= pd.merge(mass_table, mean_table, on= 'Product')\n",
    "summary"
   ]
  },
  {
   "cell_type": "code",
   "execution_count": null,
   "metadata": {},
   "outputs": [],
   "source": [
    "table= pd.DataFrame(columns= ['Variable'])\n",
    "from scipy.stats.stats import pearsonr\n",
    "summary1= summary.drop(['Product', 'mass'], axis= 1)\n",
    "for column in summary1.columns:\n",
    "    p= pearsonr(summary['mass'], summary1[column])\n",
    "    table= table.append({'Variable': column, 'PMCC': p[0], 'p-value': p[1]}, ignore_index= True)\n",
    "\n",
    "table"
   ]
  },
  {
   "cell_type": "code",
   "execution_count": null,
   "metadata": {},
   "outputs": [],
   "source": [
    "max= mass_table['mass'].max()\n",
    "min= mass_table['mass'].min()"
   ]
  },
  {
   "cell_type": "code",
   "execution_count": null,
   "metadata": {},
   "outputs": [],
   "source": [
    "N_mass_table= pd.DataFrame({'Product': mass_table['Product'], 'Normalised mass': (mass_table['mass'] - min) / (max - min)})\n",
    "X= pd.merge(X, N_mass_table, on= 'Product')"
   ]
  },
  {
   "cell_type": "code",
   "execution_count": null,
   "metadata": {},
   "outputs": [],
   "source": [
    "# GROUPING 8\n",
    "main_table= pd.read_csv('/Users/Pura 1/Documents/EATLAB Internship/Main.csv')\n",
    "mainList= main_table[main_table['Main'] == 1]['Product']\n",
    "notMainList= main_table[main_table['Main'] == 0]['Product']"
   ]
  },
  {
   "cell_type": "code",
   "execution_count": null,
   "metadata": {},
   "outputs": [],
   "source": [
    "mainList"
   ]
  },
  {
   "cell_type": "code",
   "execution_count": null,
   "metadata": {},
   "outputs": [],
   "source": [
    "notMainList"
   ]
  },
  {
   "cell_type": "code",
   "execution_count": null,
   "metadata": {},
   "outputs": [],
   "source": [
    "mainData= filter(mainList, eat_data)\n",
    "mainData.dropna().describe()"
   ]
  },
  {
   "cell_type": "code",
   "execution_count": null,
   "metadata": {},
   "outputs": [],
   "source": [
    "notMainData= filter(notMainList, eat_data)\n",
    "notMainData.dropna().describe()"
   ]
  },
  {
   "cell_type": "code",
   "execution_count": null,
   "metadata": {},
   "outputs": [],
   "source": [
    "test(mainData, notMainData)"
   ]
  },
  {
   "cell_type": "code",
   "execution_count": null,
   "metadata": {},
   "outputs": [],
   "source": [
    "# K-means Clustering 2\n",
    "X= pd.merge(X, main_table, on= 'Product')\n",
    "X.index= X['Product']\n",
    "del X['Product']"
   ]
  },
  {
   "cell_type": "code",
   "execution_count": null,
   "metadata": {},
   "outputs": [],
   "source": [
    "X"
   ]
  },
  {
   "cell_type": "code",
   "execution_count": null,
   "metadata": {},
   "outputs": [],
   "source": [
    "distorsions = []\n",
    "for k in range(2, 20):\n",
    "    kmeans = KMeans(n_clusters=k)\n",
    "    kmeans.fit(X)\n",
    "    distorsions.append(kmeans.inertia_)\n",
    "\n",
    "fig = plt.figure(figsize=(8, 5))\n",
    "plt.plot(range(2, 20), distorsions)\n",
    "plt.grid(True)\n",
    "plt.title('Elbow curve')"
   ]
  },
  {
   "cell_type": "code",
   "execution_count": null,
   "metadata": {},
   "outputs": [],
   "source": [
    "kmeans = KMeans(n_clusters= 5,random_state=0)\n",
    "kmeans.fit(X)\n",
    "y_kmeans = kmeans.predict(X)"
   ]
  },
  {
   "cell_type": "code",
   "execution_count": null,
   "metadata": {
    "scrolled": false
   },
   "outputs": [],
   "source": [
    "X_cluster= pd.DataFrame({'Product': ing_data['Product'], 'Cluster': y_kmeans})\n",
    "X_cluster"
   ]
  },
  {
   "cell_type": "code",
   "execution_count": null,
   "metadata": {},
   "outputs": [],
   "source": [
    "data.dropna().describe()"
   ]
  },
  {
   "cell_type": "code",
   "execution_count": null,
   "metadata": {},
   "outputs": [],
   "source": [
    "group9_0List= X_cluster[X_cluster['Cluster'] == 0]['Product']\n",
    "group9_1List= X_cluster[X_cluster['Cluster'] == 1]['Product']\n",
    "group9_2List= X_cluster[X_cluster['Cluster'] == 2]['Product']\n",
    "group9_3List= X_cluster[X_cluster['Cluster'] == 3]['Product']\n",
    "group9_4List= X_cluster[X_cluster['Cluster'] == 4]['Product']"
   ]
  },
  {
   "cell_type": "code",
   "execution_count": null,
   "metadata": {},
   "outputs": [],
   "source": [
    "group9_0aList= fullList.drop(labels= group9_0List)\n",
    "group9_1aList= fullList.drop(labels= group9_1List)\n",
    "group9_2aList= fullList.drop(labels= group9_2List)\n",
    "group9_3aList= fullList.drop(labels= group9_3List)\n",
    "group9_4aList= fullList.drop(labels= group9_4List)"
   ]
  },
  {
   "cell_type": "code",
   "execution_count": null,
   "metadata": {},
   "outputs": [],
   "source": [
    "group9_0Data= filter(group9_0List, eat_data)\n",
    "group9_0aData= filter(group9_0aList, eat_data)\n",
    "group9_0Data.dropna().describe()"
   ]
  },
  {
   "cell_type": "code",
   "execution_count": null,
   "metadata": {
    "scrolled": true
   },
   "outputs": [],
   "source": [
    "group9_1Data= filter(group9_1List, eat_data)\n",
    "group9_1aData= filter(group9_1aList, eat_data)\n",
    "group9_1Data.dropna().describe()"
   ]
  },
  {
   "cell_type": "code",
   "execution_count": null,
   "metadata": {},
   "outputs": [],
   "source": [
    "group9_2Data= filter(group9_2List, eat_data)\n",
    "group9_2aData= filter(group9_2aList, eat_data)\n",
    "group9_2Data.dropna().describe()"
   ]
  },
  {
   "cell_type": "code",
   "execution_count": null,
   "metadata": {},
   "outputs": [],
   "source": [
    "group9_3Data= filter(group9_3List, eat_data)\n",
    "group9_3aData= filter(group9_3aList, eat_data)\n",
    "group9_3Data.dropna().describe()"
   ]
  },
  {
   "cell_type": "code",
   "execution_count": null,
   "metadata": {},
   "outputs": [],
   "source": [
    "group9_4Data= filter(group9_4List, eat_data)\n",
    "group9_4aData= filter(group9_4aList, eat_data)\n",
    "group9_4Data.dropna().describe()"
   ]
  },
  {
   "cell_type": "code",
   "execution_count": null,
   "metadata": {},
   "outputs": [],
   "source": [
    "test(group9_0Data, group9_0aData)"
   ]
  },
  {
   "cell_type": "code",
   "execution_count": null,
   "metadata": {},
   "outputs": [],
   "source": [
    "test(group9_1Data, group9_1aData)"
   ]
  },
  {
   "cell_type": "code",
   "execution_count": null,
   "metadata": {},
   "outputs": [],
   "source": [
    "test(group9_2Data, group9_2aData)"
   ]
  },
  {
   "cell_type": "code",
   "execution_count": null,
   "metadata": {},
   "outputs": [],
   "source": [
    "test(group9_3Data, group9_3aData)"
   ]
  },
  {
   "cell_type": "code",
   "execution_count": null,
   "metadata": {},
   "outputs": [],
   "source": [
    "test(group9_4Data, group9_4aData)"
   ]
  },
  {
   "cell_type": "code",
   "execution_count": null,
   "metadata": {},
   "outputs": [],
   "source": [
    "X_cluster.to_csv('Clustering')"
   ]
  },
  {
   "cell_type": "code",
   "execution_count": null,
   "metadata": {},
   "outputs": [],
   "source": []
  },
  {
   "cell_type": "code",
   "execution_count": null,
   "metadata": {},
   "outputs": [],
   "source": []
  }
 ],
 "metadata": {
  "kernelspec": {
   "display_name": "Python 3",
   "language": "python",
   "name": "python3"
  },
  "language_info": {
   "codemirror_mode": {
    "name": "ipython",
    "version": 3
   },
   "file_extension": ".py",
   "mimetype": "text/x-python",
   "name": "python",
   "nbconvert_exporter": "python",
   "pygments_lexer": "ipython3",
   "version": "3.6.5"
  }
 },
 "nbformat": 4,
 "nbformat_minor": 2
}
